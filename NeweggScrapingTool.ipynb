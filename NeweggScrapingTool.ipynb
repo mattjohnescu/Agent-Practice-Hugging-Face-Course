{
 "cells": [
  {
   "cell_type": "code",
   "execution_count": 24,
   "metadata": {},
   "outputs": [
    {
     "ename": "DocstringParsingException",
     "evalue": "Cannot generate JSON schema for scrape_newegg_reviews because the docstring has no description for the argument 'product_url'",
     "output_type": "error",
     "traceback": [
      "\u001b[1;31m---------------------------------------------------------------------------\u001b[0m",
      "\u001b[1;31mDocstringParsingException\u001b[0m                 Traceback (most recent call last)",
      "Cell \u001b[1;32mIn[24], line 5\u001b[0m\n\u001b[0;32m      2\u001b[0m \u001b[38;5;28;01mimport\u001b[39;00m \u001b[38;5;21;01mrequests\u001b[39;00m\n\u001b[0;32m      3\u001b[0m \u001b[38;5;28;01mfrom\u001b[39;00m \u001b[38;5;21;01mbs4\u001b[39;00m \u001b[38;5;28;01mimport\u001b[39;00m BeautifulSoup\n\u001b[1;32m----> 5\u001b[0m \u001b[38;5;129;43m@tool\u001b[39;49m\n\u001b[0;32m      6\u001b[0m \u001b[38;5;28;43;01mdef\u001b[39;49;00m\u001b[43m \u001b[49m\u001b[38;5;21;43mscrape_newegg_reviews\u001b[39;49m\u001b[43m(\u001b[49m\u001b[43mproduct_url\u001b[49m\u001b[43m:\u001b[49m\u001b[43m \u001b[49m\u001b[38;5;28;43mstr\u001b[39;49m\u001b[43m)\u001b[49m\u001b[43m \u001b[49m\u001b[38;5;241;43m-\u001b[39;49m\u001b[38;5;241;43m>\u001b[39;49m\u001b[43m \u001b[49m\u001b[38;5;28;43mstr\u001b[39;49m\u001b[43m:\u001b[49m\n\u001b[0;32m      7\u001b[0m \u001b[38;5;250;43m    \u001b[39;49m\u001b[38;5;124;43;03m\"\"\"\u001b[39;49;00m\n\u001b[0;32m      8\u001b[0m \u001b[38;5;124;43;03m    Scrapes reviews for a given Newegg product URL.\u001b[39;49;00m\n\u001b[0;32m      9\u001b[0m \n\u001b[1;32m   (...)\u001b[0m\n\u001b[0;32m     14\u001b[0m \u001b[38;5;124;43;03m        str: Extracted reviews as a formatted string.\u001b[39;49;00m\n\u001b[0;32m     15\u001b[0m \u001b[38;5;124;43;03m    \"\"\"\u001b[39;49;00m\n\u001b[0;32m     16\u001b[0m \u001b[43m    \u001b[49m\u001b[38;5;66;43;03m# Extract the product ID from the URL\u001b[39;49;00m\n",
      "File \u001b[1;32mc:\\Users\\johne\\AppData\\Local\\Programs\\Python\\Python312\\Lib\\site-packages\\smolagents\\tools.py:845\u001b[0m, in \u001b[0;36mtool\u001b[1;34m(tool_function)\u001b[0m\n\u001b[0;32m    837\u001b[0m \u001b[38;5;28;01mdef\u001b[39;00m \u001b[38;5;21mtool\u001b[39m(tool_function: Callable) \u001b[38;5;241m-\u001b[39m\u001b[38;5;241m>\u001b[39m Tool:\n\u001b[0;32m    838\u001b[0m \u001b[38;5;250m    \u001b[39m\u001b[38;5;124;03m\"\"\"\u001b[39;00m\n\u001b[0;32m    839\u001b[0m \u001b[38;5;124;03m    Converts a function into an instance of a Tool subclass.\u001b[39;00m\n\u001b[0;32m    840\u001b[0m \n\u001b[1;32m   (...)\u001b[0m\n\u001b[0;32m    843\u001b[0m \u001b[38;5;124;03m        Should also have a docstring description including an 'Args:' part where each argument is described.\u001b[39;00m\n\u001b[0;32m    844\u001b[0m \u001b[38;5;124;03m    \"\"\"\u001b[39;00m\n\u001b[1;32m--> 845\u001b[0m     tool_json_schema \u001b[38;5;241m=\u001b[39m \u001b[43mget_json_schema\u001b[49m\u001b[43m(\u001b[49m\u001b[43mtool_function\u001b[49m\u001b[43m)\u001b[49m[\u001b[38;5;124m\"\u001b[39m\u001b[38;5;124mfunction\u001b[39m\u001b[38;5;124m\"\u001b[39m]\n\u001b[0;32m    846\u001b[0m     \u001b[38;5;28;01mif\u001b[39;00m \u001b[38;5;124m\"\u001b[39m\u001b[38;5;124mreturn\u001b[39m\u001b[38;5;124m\"\u001b[39m \u001b[38;5;129;01mnot\u001b[39;00m \u001b[38;5;129;01min\u001b[39;00m tool_json_schema:\n\u001b[0;32m    847\u001b[0m         \u001b[38;5;28;01mraise\u001b[39;00m TypeHintParsingException(\u001b[38;5;124m\"\u001b[39m\u001b[38;5;124mTool return type not found: make sure your function has a return type hint!\u001b[39m\u001b[38;5;124m\"\u001b[39m)\n",
      "File \u001b[1;32mc:\\Users\\johne\\AppData\\Local\\Programs\\Python\\Python312\\Lib\\site-packages\\smolagents\\_function_type_hints_utils.py:207\u001b[0m, in \u001b[0;36mget_json_schema\u001b[1;34m(func)\u001b[0m\n\u001b[0;32m    205\u001b[0m \u001b[38;5;28;01mfor\u001b[39;00m arg, schema \u001b[38;5;129;01min\u001b[39;00m json_schema[\u001b[38;5;124m\"\u001b[39m\u001b[38;5;124mproperties\u001b[39m\u001b[38;5;124m\"\u001b[39m]\u001b[38;5;241m.\u001b[39mitems():\n\u001b[0;32m    206\u001b[0m     \u001b[38;5;28;01mif\u001b[39;00m arg \u001b[38;5;129;01mnot\u001b[39;00m \u001b[38;5;129;01min\u001b[39;00m param_descriptions:\n\u001b[1;32m--> 207\u001b[0m         \u001b[38;5;28;01mraise\u001b[39;00m DocstringParsingException(\n\u001b[0;32m    208\u001b[0m             \u001b[38;5;124mf\u001b[39m\u001b[38;5;124m\"\u001b[39m\u001b[38;5;124mCannot generate JSON schema for \u001b[39m\u001b[38;5;132;01m{\u001b[39;00mfunc\u001b[38;5;241m.\u001b[39m\u001b[38;5;18m__name__\u001b[39m\u001b[38;5;132;01m}\u001b[39;00m\u001b[38;5;124m because the docstring has no description for the argument \u001b[39m\u001b[38;5;124m'\u001b[39m\u001b[38;5;132;01m{\u001b[39;00marg\u001b[38;5;132;01m}\u001b[39;00m\u001b[38;5;124m'\u001b[39m\u001b[38;5;124m\"\u001b[39m\n\u001b[0;32m    209\u001b[0m         )\n\u001b[0;32m    210\u001b[0m     desc \u001b[38;5;241m=\u001b[39m param_descriptions[arg]\n\u001b[0;32m    211\u001b[0m     enum_choices \u001b[38;5;241m=\u001b[39m re\u001b[38;5;241m.\u001b[39msearch(\u001b[38;5;124mr\u001b[39m\u001b[38;5;124m\"\u001b[39m\u001b[38;5;124m\\\u001b[39m\u001b[38;5;124m(choices:\u001b[39m\u001b[38;5;124m\\\u001b[39m\u001b[38;5;124ms*(.*?)\u001b[39m\u001b[38;5;124m\\\u001b[39m\u001b[38;5;124m)\u001b[39m\u001b[38;5;124m\\\u001b[39m\u001b[38;5;124ms*$\u001b[39m\u001b[38;5;124m\"\u001b[39m, desc, flags\u001b[38;5;241m=\u001b[39mre\u001b[38;5;241m.\u001b[39mIGNORECASE)\n",
      "\u001b[1;31mDocstringParsingException\u001b[0m: Cannot generate JSON schema for scrape_newegg_reviews because the docstring has no description for the argument 'product_url'"
     ]
    }
   ],
   "source": [
    "from smolagents import tool\n",
    "import requests\n",
    "from bs4 import BeautifulSoup\n",
    "\n",
    "@tool\n",
    "def scrape_newegg_reviews(product_url: str) -> str:\n",
    "    \"\"\"\n",
    "    Scrapes reviews for a given Newegg product URL.\n",
    "\n",
    "    Args:\n",
    "        product_url (str): The URL of the Newegg product page to scrape reviews from.\n",
    "\n",
    "    Returns:\n",
    "        str: Extracted reviews as a formatted string.\n",
    "    \"\"\"\n",
    "    # Extract the product ID from the URL\n",
    "    product_id = product_url.split('/p/')[-1].split('/')[0]\n",
    "\n",
    "    # Construct the reviews URL\n",
    "    reviews_url = f\"https://www.newegg.com/p/{product_id}/reviews\"\n",
    "\n",
    "    # Fetch the reviews page\n",
    "    response = requests.get(reviews_url)\n",
    "    if response.status_code != 200:\n",
    "        return f\"Failed to retrieve content from {reviews_url}\"\n",
    "\n",
    "    # Parse the reviews page\n",
    "    soup = BeautifulSoup(response.text, 'html.parser')\n",
    "    reviews = soup.find_all('div', class_='comments-content')\n",
    "    if not reviews:\n",
    "        return \"No reviews found.\"\n",
    "\n",
    "    # Extract and format the reviews\n",
    "    extracted_reviews = \"\\n\\n\".join(review.get_text(strip=True) for review in reviews)\n",
    "    return extracted_reviews\n",
    "\n",
    "\n",
    "\n",
    "\n"
   ]
  },
  {
   "cell_type": "code",
   "execution_count": 33,
   "metadata": {},
   "outputs": [
    {
     "ename": "NameError",
     "evalue": "name 'scrape_newegg_reviews' is not defined",
     "output_type": "error",
     "traceback": [
      "\u001b[1;31m---------------------------------------------------------------------------\u001b[0m",
      "\u001b[1;31mNameError\u001b[0m                                 Traceback (most recent call last)",
      "Cell \u001b[1;32mIn[33], line 2\u001b[0m\n\u001b[0;32m      1\u001b[0m product_url \u001b[38;5;241m=\u001b[39m \u001b[38;5;124m\"\u001b[39m\u001b[38;5;124mhttps://www.newegg.com/black-steelseries-arctis-7/p/N82E16826249237?Item=9SIBWH3KAG5109\u001b[39m\u001b[38;5;124m\"\u001b[39m\n\u001b[1;32m----> 2\u001b[0m reviews \u001b[38;5;241m=\u001b[39m \u001b[43mscrape_newegg_reviews\u001b[49m(product_url)\n\u001b[0;32m      3\u001b[0m \u001b[38;5;28mprint\u001b[39m(reviews)\n",
      "\u001b[1;31mNameError\u001b[0m: name 'scrape_newegg_reviews' is not defined"
     ]
    }
   ],
   "source": [
    "product_url = \"https://www.newegg.com/black-steelseries-arctis-7/p/N82E16826249237?Item=9SIBWH3KAG5109\"\n",
    "reviews = scrape_newegg_reviews(product_url)\n",
    "print(reviews)\n"
   ]
  }
 ],
 "metadata": {
  "kernelspec": {
   "display_name": "Python 3",
   "language": "python",
   "name": "python3"
  },
  "language_info": {
   "codemirror_mode": {
    "name": "ipython",
    "version": 3
   },
   "file_extension": ".py",
   "mimetype": "text/x-python",
   "name": "python",
   "nbconvert_exporter": "python",
   "pygments_lexer": "ipython3",
   "version": "3.12.6"
  }
 },
 "nbformat": 4,
 "nbformat_minor": 2
}
